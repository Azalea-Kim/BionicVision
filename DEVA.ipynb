{
  "cells": [
    {
      "cell_type": "code",
      "execution_count": 2,
      "metadata": {
        "colab": {
          "base_uri": "https://localhost:8080/"
        },
        "id": "DWyaRjiRylx-",
        "outputId": "6cb9dc2a-0cd9-420a-8e51-a8973895957b"
      },
      "outputs": [
        {
          "name": "stdout",
          "output_type": "stream",
          "text": [
            "Fri Mar  7 20:28:08 2025       \n",
            "+-----------------------------------------------------------------------------------------+\n",
            "| NVIDIA-SMI 550.54.15              Driver Version: 550.54.15      CUDA Version: 12.4     |\n",
            "|-----------------------------------------+------------------------+----------------------+\n",
            "| GPU  Name                 Persistence-M | Bus-Id          Disp.A | Volatile Uncorr. ECC |\n",
            "| Fan  Temp   Perf          Pwr:Usage/Cap |           Memory-Usage | GPU-Util  Compute M. |\n",
            "|                                         |                        |               MIG M. |\n",
            "|=========================================+========================+======================|\n",
            "|   0  Tesla T4                       Off |   00000000:00:04.0 Off |                    0 |\n",
            "| N/A   73C    P8             11W /   70W |       0MiB /  15360MiB |      0%      Default |\n",
            "|                                         |                        |                  N/A |\n",
            "+-----------------------------------------+------------------------+----------------------+\n",
            "                                                                                         \n",
            "+-----------------------------------------------------------------------------------------+\n",
            "| Processes:                                                                              |\n",
            "|  GPU   GI   CI        PID   Type   Process name                              GPU Memory |\n",
            "|        ID   ID                                                               Usage      |\n",
            "|=========================================================================================|\n",
            "|  No running processes found                                                             |\n",
            "+-----------------------------------------------------------------------------------------+\n"
          ]
        }
      ],
      "source": [
        "!nvidia-smi"
      ]
    },
    {
      "cell_type": "code",
      "execution_count": 3,
      "metadata": {
        "colab": {
          "base_uri": "https://localhost:8080/"
        },
        "id": "jz9riEMSCllt",
        "outputId": "da81a484-cabd-4d28-af7e-98b50a2ebc09"
      },
      "outputs": [
        {
          "name": "stdout",
          "output_type": "stream",
          "text": [
            "HOME: /content\n"
          ]
        }
      ],
      "source": [
        "import os\n",
        "HOME = os.getcwd()\n",
        "print(\"HOME:\", HOME)\n",
        "\n",
        "# temporary fix for some weird locale bug\n",
        "import locale\n",
        "locale.getpreferredencoding = lambda: \"UTF-8\""
      ]
    },
    {
      "cell_type": "code",
      "execution_count": 4,
      "metadata": {
        "colab": {
          "base_uri": "https://localhost:8080/"
        },
        "collapsed": true,
        "id": "POebs5a5Cm41",
        "outputId": "aa1bc922-1dbd-4629-ab8a-1c3ab14ba24b"
      },
      "outputs": [
        {
          "name": "stdout",
          "output_type": "stream",
          "text": [
            "/content\n",
            "fatal: destination path 'Grounded-Segment-Anything' already exists and is not an empty directory.\n",
            "env: CUDA_HOME=/usr/local/cuda\n",
            "env: BUILD_WITH_CUDA=True\n",
            "env: AM_I_DOCKER=False\n",
            "/content/Grounded-Segment-Anything\n",
            "Found existing installation: groundingdino 0.1.0\n",
            "Uninstalling groundingdino-0.1.0:\n",
            "  Successfully uninstalled groundingdino-0.1.0\n",
            "Obtaining file:///content/Grounded-Segment-Anything/GroundingDINO\n",
            "  Preparing metadata (setup.py) ... \u001b[?25l\u001b[?25hdone\n",
            "Requirement already satisfied: torch in /usr/local/lib/python3.11/dist-packages (from groundingdino==0.1.0) (2.5.1+cu124)\n",
            "Requirement already satisfied: torchvision in /usr/local/lib/python3.11/dist-packages (from groundingdino==0.1.0) (0.20.1+cu124)\n",
            "Requirement already satisfied: transformers in /usr/local/lib/python3.11/dist-packages (from groundingdino==0.1.0) (4.48.3)\n",
            "Requirement already satisfied: addict in /usr/local/lib/python3.11/dist-packages (from groundingdino==0.1.0) (2.4.0)\n",
            "Requirement already satisfied: yapf in /usr/local/lib/python3.11/dist-packages (from groundingdino==0.1.0) (0.43.0)\n",
            "Requirement already satisfied: timm in /usr/local/lib/python3.11/dist-packages (from groundingdino==0.1.0) (1.0.15)\n",
            "Requirement already satisfied: numpy in /usr/local/lib/python3.11/dist-packages (from groundingdino==0.1.0) (1.26.4)\n",
            "Requirement already satisfied: opencv-python in /usr/local/lib/python3.11/dist-packages (from groundingdino==0.1.0) (4.11.0.86)\n",
            "Requirement already satisfied: supervision in /usr/local/lib/python3.11/dist-packages (from groundingdino==0.1.0) (0.25.1)\n",
            "Requirement already satisfied: pycocotools in /usr/local/lib/python3.11/dist-packages (from groundingdino==0.1.0) (2.0.8)\n",
            "Requirement already satisfied: matplotlib>=2.1.0 in /usr/local/lib/python3.11/dist-packages (from pycocotools->groundingdino==0.1.0) (3.10.0)\n",
            "Requirement already satisfied: contourpy>=1.0.7 in /usr/local/lib/python3.11/dist-packages (from supervision->groundingdino==0.1.0) (1.3.1)\n",
            "Requirement already satisfied: defusedxml<0.8.0,>=0.7.1 in /usr/local/lib/python3.11/dist-packages (from supervision->groundingdino==0.1.0) (0.7.1)\n",
            "Requirement already satisfied: pillow>=9.4 in /usr/local/lib/python3.11/dist-packages (from supervision->groundingdino==0.1.0) (11.1.0)\n",
            "Requirement already satisfied: pyyaml>=5.3 in /usr/local/lib/python3.11/dist-packages (from supervision->groundingdino==0.1.0) (6.0.2)\n",
            "Requirement already satisfied: requests>=2.26.0 in /usr/local/lib/python3.11/dist-packages (from supervision->groundingdino==0.1.0) (2.32.3)\n",
            "Requirement already satisfied: scipy<2.0.0,>=1.10.0 in /usr/local/lib/python3.11/dist-packages (from supervision->groundingdino==0.1.0) (1.13.1)\n",
            "Requirement already satisfied: tqdm>=4.62.3 in /usr/local/lib/python3.11/dist-packages (from supervision->groundingdino==0.1.0) (4.67.1)\n",
            "Requirement already satisfied: huggingface_hub in /usr/local/lib/python3.11/dist-packages (from timm->groundingdino==0.1.0) (0.28.1)\n",
            "Requirement already satisfied: safetensors in /usr/local/lib/python3.11/dist-packages (from timm->groundingdino==0.1.0) (0.5.3)\n",
            "Requirement already satisfied: filelock in /usr/local/lib/python3.11/dist-packages (from torch->groundingdino==0.1.0) (3.17.0)\n",
            "Requirement already satisfied: typing-extensions>=4.8.0 in /usr/local/lib/python3.11/dist-packages (from torch->groundingdino==0.1.0) (4.12.2)\n",
            "Requirement already satisfied: networkx in /usr/local/lib/python3.11/dist-packages (from torch->groundingdino==0.1.0) (3.4.2)\n",
            "Requirement already satisfied: jinja2 in /usr/local/lib/python3.11/dist-packages (from torch->groundingdino==0.1.0) (3.1.5)\n",
            "Requirement already satisfied: fsspec in /usr/local/lib/python3.11/dist-packages (from torch->groundingdino==0.1.0) (2024.10.0)\n",
            "Requirement already satisfied: nvidia-cuda-nvrtc-cu12==12.4.127 in /usr/local/lib/python3.11/dist-packages (from torch->groundingdino==0.1.0) (12.4.127)\n",
            "Requirement already satisfied: nvidia-cuda-runtime-cu12==12.4.127 in /usr/local/lib/python3.11/dist-packages (from torch->groundingdino==0.1.0) (12.4.127)\n",
            "Requirement already satisfied: nvidia-cuda-cupti-cu12==12.4.127 in /usr/local/lib/python3.11/dist-packages (from torch->groundingdino==0.1.0) (12.4.127)\n",
            "Requirement already satisfied: nvidia-cudnn-cu12==9.1.0.70 in /usr/local/lib/python3.11/dist-packages (from torch->groundingdino==0.1.0) (9.1.0.70)\n",
            "Requirement already satisfied: nvidia-cublas-cu12==12.4.5.8 in /usr/local/lib/python3.11/dist-packages (from torch->groundingdino==0.1.0) (12.4.5.8)\n",
            "Requirement already satisfied: nvidia-cufft-cu12==11.2.1.3 in /usr/local/lib/python3.11/dist-packages (from torch->groundingdino==0.1.0) (11.2.1.3)\n",
            "Requirement already satisfied: nvidia-curand-cu12==10.3.5.147 in /usr/local/lib/python3.11/dist-packages (from torch->groundingdino==0.1.0) (10.3.5.147)\n",
            "Requirement already satisfied: nvidia-cusolver-cu12==11.6.1.9 in /usr/local/lib/python3.11/dist-packages (from torch->groundingdino==0.1.0) (11.6.1.9)\n",
            "Requirement already satisfied: nvidia-cusparse-cu12==12.3.1.170 in /usr/local/lib/python3.11/dist-packages (from torch->groundingdino==0.1.0) (12.3.1.170)\n",
            "Requirement already satisfied: nvidia-nccl-cu12==2.21.5 in /usr/local/lib/python3.11/dist-packages (from torch->groundingdino==0.1.0) (2.21.5)\n",
            "Requirement already satisfied: nvidia-nvtx-cu12==12.4.127 in /usr/local/lib/python3.11/dist-packages (from torch->groundingdino==0.1.0) (12.4.127)\n",
            "Requirement already satisfied: nvidia-nvjitlink-cu12==12.4.127 in /usr/local/lib/python3.11/dist-packages (from torch->groundingdino==0.1.0) (12.4.127)\n",
            "Requirement already satisfied: triton==3.1.0 in /usr/local/lib/python3.11/dist-packages (from torch->groundingdino==0.1.0) (3.1.0)\n",
            "Requirement already satisfied: sympy==1.13.1 in /usr/local/lib/python3.11/dist-packages (from torch->groundingdino==0.1.0) (1.13.1)\n",
            "Requirement already satisfied: mpmath<1.4,>=1.1.0 in /usr/local/lib/python3.11/dist-packages (from sympy==1.13.1->torch->groundingdino==0.1.0) (1.3.0)\n",
            "Requirement already satisfied: packaging>=20.0 in /usr/local/lib/python3.11/dist-packages (from transformers->groundingdino==0.1.0) (24.2)\n",
            "Requirement already satisfied: regex!=2019.12.17 in /usr/local/lib/python3.11/dist-packages (from transformers->groundingdino==0.1.0) (2024.11.6)\n",
            "Requirement already satisfied: tokenizers<0.22,>=0.21 in /usr/local/lib/python3.11/dist-packages (from transformers->groundingdino==0.1.0) (0.21.0)\n",
            "Requirement already satisfied: platformdirs>=3.5.1 in /usr/local/lib/python3.11/dist-packages (from yapf->groundingdino==0.1.0) (4.3.6)\n",
            "Requirement already satisfied: cycler>=0.10 in /usr/local/lib/python3.11/dist-packages (from matplotlib>=2.1.0->pycocotools->groundingdino==0.1.0) (0.12.1)\n",
            "Requirement already satisfied: fonttools>=4.22.0 in /usr/local/lib/python3.11/dist-packages (from matplotlib>=2.1.0->pycocotools->groundingdino==0.1.0) (4.56.0)\n",
            "Requirement already satisfied: kiwisolver>=1.3.1 in /usr/local/lib/python3.11/dist-packages (from matplotlib>=2.1.0->pycocotools->groundingdino==0.1.0) (1.4.8)\n",
            "Requirement already satisfied: pyparsing>=2.3.1 in /usr/local/lib/python3.11/dist-packages (from matplotlib>=2.1.0->pycocotools->groundingdino==0.1.0) (3.2.1)\n",
            "Requirement already satisfied: python-dateutil>=2.7 in /usr/local/lib/python3.11/dist-packages (from matplotlib>=2.1.0->pycocotools->groundingdino==0.1.0) (2.8.2)\n",
            "Requirement already satisfied: charset-normalizer<4,>=2 in /usr/local/lib/python3.11/dist-packages (from requests>=2.26.0->supervision->groundingdino==0.1.0) (3.4.1)\n",
            "Requirement already satisfied: idna<4,>=2.5 in /usr/local/lib/python3.11/dist-packages (from requests>=2.26.0->supervision->groundingdino==0.1.0) (3.10)\n",
            "Requirement already satisfied: urllib3<3,>=1.21.1 in /usr/local/lib/python3.11/dist-packages (from requests>=2.26.0->supervision->groundingdino==0.1.0) (2.3.0)\n",
            "Requirement already satisfied: certifi>=2017.4.17 in /usr/local/lib/python3.11/dist-packages (from requests>=2.26.0->supervision->groundingdino==0.1.0) (2025.1.31)\n",
            "Requirement already satisfied: MarkupSafe>=2.0 in /usr/local/lib/python3.11/dist-packages (from jinja2->torch->groundingdino==0.1.0) (2.1.5)\n",
            "Requirement already satisfied: six>=1.5 in /usr/local/lib/python3.11/dist-packages (from python-dateutil>=2.7->matplotlib>=2.1.0->pycocotools->groundingdino==0.1.0) (1.17.0)\n",
            "Installing collected packages: groundingdino\n",
            "  Running setup.py develop for groundingdino\n",
            "Successfully installed groundingdino-0.1.0\n",
            "  Preparing metadata (setup.py) ... \u001b[?25l\u001b[?25hdone\n"
          ]
        }
      ],
      "source": [
        "%cd {HOME}\n",
        "!git clone https://github.com/hkchengrex/Grounded-Segment-Anything\n",
        "%env CUDA_HOME=/usr/local/cuda\n",
        "%env BUILD_WITH_CUDA=True\n",
        "%env AM_I_DOCKER=False\n",
        "%cd {HOME}/Grounded-Segment-Anything\n",
        "!pip uninstall -y GroundingDINO\n",
        "!pip install -e GroundingDINO\n",
        "!pip install -q -e segment_anything"
      ]
    },
    {
      "cell_type": "code",
      "execution_count": 5,
      "metadata": {
        "colab": {
          "base_uri": "https://localhost:8080/"
        },
        "id": "bwXtSZfkDjVS",
        "outputId": "7274beef-241e-4cdc-b035-b29e121ca347"
      },
      "outputs": [
        {
          "name": "stdout",
          "output_type": "stream",
          "text": [
            "HOME: /content/Grounded-Segment-Anything\n"
          ]
        }
      ],
      "source": [
        "import os\n",
        "HOME = os.getcwd()\n",
        "print(\"HOME:\", HOME)\n",
        "\n",
        "# temporary fix for some weird locale bug\n",
        "import locale\n",
        "locale.getpreferredencoding = lambda: \"UTF-8\""
      ]
    },
    {
      "cell_type": "code",
      "execution_count": 6,
      "metadata": {
        "colab": {
          "base_uri": "https://localhost:8080/"
        },
        "id": "i4b76FZYDxsm",
        "outputId": "dacc7977-71b6-43de-b97e-6eba2ce41cf2"
      },
      "outputs": [
        {
          "name": "stdout",
          "output_type": "stream",
          "text": [
            "/content/Grounded-Segment-Anything\n"
          ]
        },
        {
          "name": "stderr",
          "output_type": "stream",
          "text": [
            "FutureWarning: Importing from timm.models.layers is deprecated, please import via timm.layers\n"
          ]
        }
      ],
      "source": [
        "# either one of these should work\n",
        "%cd {HOME}\n",
        "try:\n",
        "  import groundingdino\n",
        "  from groundingdino.util.inference import Model as GroundingDINOModel\n",
        "except ImportError:\n",
        "  import GroundingDINO\n",
        "  from GroundingDINO.groundingdino.util.inference import Model as GroundingDINOModel"
      ]
    },
    {
      "cell_type": "code",
      "execution_count": 7,
      "metadata": {
        "colab": {
          "base_uri": "https://localhost:8080/"
        },
        "id": "KOW54BSTD-uB",
        "outputId": "a97cf579-395e-4b85-de8d-2d1d5b70d978"
      },
      "outputs": [
        {
          "name": "stdout",
          "output_type": "stream",
          "text": [
            "/content/Grounded-Segment-Anything\n",
            "Cloning into 'Tracking-Anything-with-DEVA'...\n",
            "remote: Enumerating objects: 552, done.\u001b[K\n",
            "remote: Counting objects: 100% (116/116), done.\u001b[K\n",
            "remote: Compressing objects: 100% (61/61), done.\u001b[K\n",
            "remote: Total 552 (delta 70), reused 85 (delta 55), pack-reused 436 (from 1)\u001b[K\n",
            "Receiving objects: 100% (552/552), 1.09 MiB | 3.43 MiB/s, done.\n",
            "Resolving deltas: 100% (297/297), done.\n",
            "/content/Grounded-Segment-Anything/Tracking-Anything-with-DEVA\n",
            "  Installing build dependencies ... \u001b[?25l\u001b[?25hdone\n",
            "  Checking if build backend supports build_editable ... \u001b[?25l\u001b[?25hdone\n",
            "  Getting requirements to build editable ... \u001b[?25l\u001b[?25hdone\n",
            "  Installing backend dependencies ... \u001b[?25l\u001b[?25hdone\n",
            "  Preparing editable metadata (pyproject.toml) ... \u001b[?25l\u001b[?25hdone\n",
            "  Preparing metadata (setup.py) ... \u001b[?25l\u001b[?25hdone\n",
            "  Building editable for deva (pyproject.toml) ... \u001b[?25l\u001b[?25hdone\n"
          ]
        }
      ],
      "source": [
        "%cd {HOME}\n",
        "!git clone https://github.com/hkchengrex/Tracking-Anything-with-DEVA\n",
        "%cd {HOME}/Tracking-Anything-with-DEVA\n",
        "!pip install -q -e ."
      ]
    },
    {
      "cell_type": "code",
      "execution_count": 8,
      "metadata": {
        "colab": {
          "base_uri": "https://localhost:8080/"
        },
        "id": "MxWkQ_ZuELye",
        "outputId": "fd4147b4-84d3-4c94-d767-2e5cff0346a4"
      },
      "outputs": [
        {
          "name": "stdout",
          "output_type": "stream",
          "text": [
            "/content/Grounded-Segment-Anything/Tracking-Anything-with-DEVA\n"
          ]
        }
      ],
      "source": [
        "%cd {HOME}/Tracking-Anything-with-DEVA\n",
        "!wget -q -P ./saves/ https://github.com/hkchengrex/Tracking-Anything-with-DEVA/releases/download/v1.0/DEVA-propagation.pth\n",
        "!wget -q -P ./saves/ https://github.com/IDEA-Research/GroundingDINO/releases/download/v0.1.0-alpha/groundingdino_swint_ogc.pth\n",
        "!wget -q -P ./saves/ https://dl.fbaipublicfiles.com/segment_anything/sam_vit_h_4b8939.pth\n",
        "!wget -q -P ./saves/ https://github.com/hkchengrex/Tracking-Anything-with-DEVA/releases/download/v1.0/GroundingDINO_SwinT_OGC.py"
      ]
    },
    {
      "cell_type": "code",
      "execution_count": null,
      "metadata": {
        "colab": {
          "base_uri": "https://localhost:8080/"
        },
        "id": "BPnh0PhCESgY",
        "outputId": "01822054-eed3-4fb7-900a-a56b5c5867ab"
      },
      "outputs": [
        {
          "name": "stdout",
          "output_type": "stream",
          "text": [
            "/content/Grounded-Segment-Anything/Tracking-Anything-with-DEVA\n"
          ]
        },
        {
          "name": "stderr",
          "output_type": "stream",
          "text": [
            "FutureWarning: Importing from timm.models.registry is deprecated, please import via timm.models\n",
            "UserWarning: Overwriting tiny_vit_5m_224 in registry with deva.ext.MobileSAM.tiny_vit_sam.tiny_vit_5m_224. This is because the name being registered conflicts with an existing name. Please check if this is not expected.\n",
            "UserWarning: Overwriting tiny_vit_11m_224 in registry with deva.ext.MobileSAM.tiny_vit_sam.tiny_vit_11m_224. This is because the name being registered conflicts with an existing name. Please check if this is not expected.\n",
            "UserWarning: Overwriting tiny_vit_21m_224 in registry with deva.ext.MobileSAM.tiny_vit_sam.tiny_vit_21m_224. This is because the name being registered conflicts with an existing name. Please check if this is not expected.\n",
            "UserWarning: Overwriting tiny_vit_21m_384 in registry with deva.ext.MobileSAM.tiny_vit_sam.tiny_vit_21m_384. This is because the name being registered conflicts with an existing name. Please check if this is not expected.\n",
            "UserWarning: Overwriting tiny_vit_21m_512 in registry with deva.ext.MobileSAM.tiny_vit_sam.tiny_vit_21m_512. This is because the name being registered conflicts with an existing name. Please check if this is not expected.\n",
            "UserWarning: Overwriting tiny_vit_5m_224 in registry with deva.ext.LightHQSAM.tiny_vit_sam.tiny_vit_5m_224. This is because the name being registered conflicts with an existing name. Please check if this is not expected.\n",
            "UserWarning: Overwriting tiny_vit_11m_224 in registry with deva.ext.LightHQSAM.tiny_vit_sam.tiny_vit_11m_224. This is because the name being registered conflicts with an existing name. Please check if this is not expected.\n",
            "UserWarning: Overwriting tiny_vit_21m_224 in registry with deva.ext.LightHQSAM.tiny_vit_sam.tiny_vit_21m_224. This is because the name being registered conflicts with an existing name. Please check if this is not expected.\n",
            "UserWarning: Overwriting tiny_vit_21m_384 in registry with deva.ext.LightHQSAM.tiny_vit_sam.tiny_vit_21m_384. This is because the name being registered conflicts with an existing name. Please check if this is not expected.\n",
            "UserWarning: Overwriting tiny_vit_21m_512 in registry with deva.ext.LightHQSAM.tiny_vit_sam.tiny_vit_21m_512. This is because the name being registered conflicts with an existing name. Please check if this is not expected.\n",
            "FutureWarning: You are using `torch.load` with `weights_only=False` (the current default value), which uses the default pickle module implicitly. It is possible to construct malicious pickle data which will execute arbitrary code during unpickling (See https://github.com/pytorch/pytorch/blob/main/SECURITY.md#untrusted-models for more details). In a future release, the default value for `weights_only` will be flipped to `True`. This limits the functions that could be executed during unpickling. Arbitrary objects will no longer be allowed to be loaded via this mode unless they are explicitly allowlisted by the user via `torch.serialization.add_safe_globals`. We recommend you start setting `weights_only=True` for any use case where you don't have full control of the loaded file. Please open an issue on GitHub for any issues related to this experimental feature.\n",
            "UserWarning: torch.meshgrid: in an upcoming release, it will be required to pass the indexing argument. (Triggered internally at ../aten/src/ATen/native/TensorShape.cpp:3595.)\n"
          ]
        },
        {
          "name": "stdout",
          "output_type": "stream",
          "text": [
            "final text_encoder_type: bert-base-uncased\n"
          ]
        },
        {
          "name": "stderr",
          "output_type": "stream",
          "text": [
            "UserWarning: \n",
            "The secret `HF_TOKEN` does not exist in your Colab secrets.\n",
            "To authenticate with the Hugging Face Hub, create a token in your settings tab (https://huggingface.co/settings/tokens), set it as secret in your Google Colab and restart your session.\n",
            "You will be able to reuse this secret in all of your notebooks.\n",
            "Please note that authentication is recommended but still optional to access public models or datasets.\n",
            "FutureWarning: You are using `torch.load` with `weights_only=False` (the current default value), which uses the default pickle module implicitly. It is possible to construct malicious pickle data which will execute arbitrary code during unpickling (See https://github.com/pytorch/pytorch/blob/main/SECURITY.md#untrusted-models for more details). In a future release, the default value for `weights_only` will be flipped to `True`. This limits the functions that could be executed during unpickling. Arbitrary objects will no longer be allowed to be loaded via this mode unless they are explicitly allowlisted by the user via `torch.serialization.add_safe_globals`. We recommend you start setting `weights_only=True` for any use case where you don't have full control of the loaded file. Please open an issue on GitHub for any issues related to this experimental feature.\n",
            "FutureWarning: You are using `torch.load` with `weights_only=False` (the current default value), which uses the default pickle module implicitly. It is possible to construct malicious pickle data which will execute arbitrary code during unpickling (See https://github.com/pytorch/pytorch/blob/main/SECURITY.md#untrusted-models for more details). In a future release, the default value for `weights_only` will be flipped to `True`. This limits the functions that could be executed during unpickling. Arbitrary objects will no longer be allowed to be loaded via this mode unless they are explicitly allowlisted by the user via `torch.serialization.add_safe_globals`. We recommend you start setting `weights_only=True` for any use case where you don't have full control of the loaded file. Please open an issue on GitHub for any issues related to this experimental feature.\n"
          ]
        }
      ],
      "source": [
        "%cd {HOME}/Tracking-Anything-with-DEVA\n",
        "\n",
        "import os\n",
        "from os import path\n",
        "from argparse import ArgumentParser\n",
        "\n",
        "import torch\n",
        "import numpy as np\n",
        "\n",
        "from deva.model.network import DEVA\n",
        "from deva.inference.inference_core import DEVAInferenceCore\n",
        "from deva.inference.result_utils import ResultSaver\n",
        "from deva.inference.eval_args import add_common_eval_args, get_model_and_config\n",
        "from deva.inference.demo_utils import flush_buffer\n",
        "from deva.ext.ext_eval_args import add_ext_eval_args, add_text_default_args\n",
        "from deva.ext.grounding_dino import get_grounding_dino_model\n",
        "from deva.ext.with_text_processor import process_frame_with_text as process_frame\n",
        "\n",
        "from tqdm import tqdm\n",
        "import json\n",
        "\n",
        "torch.autograd.set_grad_enabled(False)\n",
        "\n",
        "# for id2rgb\n",
        "np.random.seed(42)\n",
        "\n",
        "# default parameters\n",
        "parser = ArgumentParser()\n",
        "add_common_eval_args(parser)\n",
        "add_ext_eval_args(parser)\n",
        "add_text_default_args(parser)\n",
        "\n",
        "# load model and config\n",
        "args = parser.parse_args([])\n",
        "cfg = vars(args)\n",
        "cfg['enable_long_term'] = True\n",
        "\n",
        "# Load our checkpoint\n",
        "deva_model = DEVA(cfg).cuda().eval()\n",
        "if args.model is not None:\n",
        "    model_weights = torch.load(args.model)\n",
        "    deva_model.load_weights(model_weights)\n",
        "else:\n",
        "    print('No model loaded.')\n",
        "\n",
        "gd_model, sam_model = get_grounding_dino_model(cfg, 'cuda')"
      ]
    },
    {
      "cell_type": "code",
      "execution_count": null,
      "metadata": {
        "id": "fGdV3X2REa3Q"
      },
      "outputs": [],
      "source": [
        "from google.colab import drive\n",
        "drive.mount('/content/drive')"
      ]
    },
    {
      "cell_type": "code",
      "execution_count": null,
      "metadata": {
        "id": "iYMXgOOOElTl"
      },
      "outputs": [],
      "source": [
        "!mkdir -p {HOME}/data\n",
        "!cp \"/content/drive/MyDrive/rgb_video.mp4\" \"/content/data/rgb_video.mp4\""
      ]
    },
    {
      "cell_type": "code",
      "execution_count": 74,
      "metadata": {
        "id": "zFLoyO5hE1vi"
      },
      "outputs": [],
      "source": [
        "cfg['enable_long_term_count_usage'] = True\n",
        "cfg['max_num_objects'] = 50\n",
        "cfg['size'] = 480\n",
        "cfg['DINO_THRESHOLD'] = 0.3\n",
        "cfg['amp'] = True\n",
        "cfg['chunk_size'] = 4\n",
        "cfg['detection_every'] = 3\n",
        "cfg['max_missed_detection_count'] = 10\n",
        "cfg['sam_variant'] = 'original'\n",
        "cfg['temporal_setting'] = 'online' # semionline usually works better; but online is faster for this demo\n",
        "cfg['pluralize'] = True\n",
        "cfg['prompt'] = 'window.door.kitchen_object'\n",
        "category_mask_thresholds = [0.5, 0.5, 0.1]\n",
        "\n",
        "!rm -rf {HOME}/data/masks\n",
        "SOURCE_VIDEO_PATH = f\"{HOME}/data/rgb_video.mp4\"\n",
        "OUTPUT_VIDEO_PATH = f\"{HOME}/data/output.webm\"\n",
        "MASK_DIR = f\"{HOME}/data/masks\"\n",
        "os.makedirs(MASK_DIR, exist_ok=True)"
      ]
    },
    {
      "cell_type": "code",
      "execution_count": null,
      "metadata": {
        "colab": {
          "base_uri": "https://localhost:8080/"
        },
        "id": "87272yT3FEXf",
        "outputId": "5ccfabf8-8480-4296-a071-38d505ef2ebf"
      },
      "outputs": [
        {
          "name": "stderr",
          "output_type": "stream",
          "text": [
            "FutureWarning: `torch.cuda.amp.autocast(args...)` is deprecated. Please use `torch.amp.autocast('cuda', args...)` instead.\n"
          ]
        },
        {
          "name": "stdout",
          "output_type": "stream",
          "text": [
            "/content/Tracking-Anything-with-DEVA\n"
          ]
        },
        {
          "name": "stderr",
          "output_type": "stream",
          "text": [
            "  1%|          | 2/201 [00:01<01:52,  1.77it/s]SupervisionWarnings: BoundingBoxAnnotator is deprecated: `BoundingBoxAnnotator` is deprecated and has been renamed to `BoxAnnotator`. `BoundingBoxAnnotator` will be removed in supervision-0.26.0.\n",
            "  1%|▏         | 3/201 [00:01<01:30,  2.19it/s]SupervisionWarnings: BoundingBoxAnnotator is deprecated: `BoundingBoxAnnotator` is deprecated and has been renamed to `BoxAnnotator`. `BoundingBoxAnnotator` will be removed in supervision-0.26.0.\n",
            "  3%|▎         | 6/201 [00:03<01:23,  2.33it/s]SupervisionWarnings: BoundingBoxAnnotator is deprecated: `BoundingBoxAnnotator` is deprecated and has been renamed to `BoxAnnotator`. `BoundingBoxAnnotator` will be removed in supervision-0.26.0.\n",
            "  4%|▍         | 9/201 [00:05<01:32,  2.07it/s]"
          ]
        }
      ],
      "source": [
        "%cd {HOME}/Tracking-Anything-with-DEVA\n",
        "\n",
        "from deva.ext.with_text_processor import process_frame_with_text as process_frame_text\n",
        "import tempfile\n",
        "import cv2\n",
        "\n",
        "deva = DEVAInferenceCore(deva_model, config=cfg)\n",
        "deva.next_voting_frame = cfg['num_voting_frames'] - 1\n",
        "deva.enabled_long_id()\n",
        "\n",
        "# obtain temporary directory\n",
        "result_saver = ResultSaver(None, None, dataset='gradio', object_manager=deva.object_manager)\n",
        "writer_initizied = False\n",
        "\n",
        "cap = cv2.VideoCapture(SOURCE_VIDEO_PATH)\n",
        "fps = cap.get(cv2.CAP_PROP_FPS)\n",
        "ti = 0\n",
        "# only an estimate\n",
        "with torch.cuda.amp.autocast(enabled=cfg['amp']):\n",
        "    with tqdm(total=int(cap.get(cv2.CAP_PROP_FRAME_COUNT))) as pbar:\n",
        "        while (cap.isOpened()):\n",
        "            ret, frame = cap.read()\n",
        "            if ret == True:\n",
        "                if not writer_initizied:\n",
        "                    h, w = frame.shape[:2]\n",
        "                    writer = cv2.VideoWriter(OUTPUT_VIDEO_PATH, cv2.VideoWriter_fourcc(*'vp80'), fps, (w, h))\n",
        "                    writer_initizied = True\n",
        "                    result_saver.writer = writer\n",
        "\n",
        "                process_frame_text(deva, gd_model, sam_model, 'null.png', result_saver, ti, image_np=frame)\n",
        "                prob = deva.last_mask[0]\n",
        "                category_masks = [None, None, None]\n",
        "\n",
        "                tmp_to_obj = deva.object_manager.tmp_id_to_obj\n",
        "                for tmp_id in range(prob.shape[0]):\n",
        "                  if tmp_id in tmp_to_obj:\n",
        "                    obj_info = tmp_to_obj[tmp_id]\n",
        "                    category_id = obj_info.vote_category_id()\n",
        "                    obj_prob = prob[tmp_id].cpu().numpy()\n",
        "                    binary_mask = (obj_prob > 0.7).astype(np.uint8) * 255\n",
        "\n",
        "                    if category_id is not None and category_id < len(category_mask_thresholds):\n",
        "                      if category_masks[category_id] is None:\n",
        "                        category_masks[category_id] = np.zeros_like(binary_mask)\n",
        "                      category_masks[category_id] = np.maximum(category_masks[category_id], binary_mask)\n",
        "\n",
        "                for category_id, category_mask in enumerate(category_masks):\n",
        "                  if category_mask is not None:\n",
        "                    cv2.imwrite(os.path.join(MASK_DIR, f\"frame_{ti:05d}_category_{category_id}.png\"), category_mask)\n",
        "\n",
        "                ti += 1\n",
        "                pbar.update(1)\n",
        "            else:\n",
        "                break\n",
        "    flush_buffer(deva, result_saver)\n",
        "writer.release()\n",
        "cap.release()\n",
        "deva.clear_buffer()"
      ]
    },
    {
      "cell_type": "code",
      "execution_count": 1,
      "metadata": {
        "colab": {
          "base_uri": "https://localhost:8080/",
          "height": 245
        },
        "id": "vxANB4xgHiQm",
        "outputId": "f1bd60d4-8fca-40d3-ff73-18a9532981b6"
      },
      "outputs": [
        {
          "name": "stdout",
          "output_type": "stream",
          "text": [
            "ls: cannot access '{HOME}/data/masks': No such file or directory\n"
          ]
        },
        {
          "ename": "NameError",
          "evalue": "name 'HOME' is not defined",
          "output_type": "error",
          "traceback": [
            "\u001b[0;31m---------------------------------------------------------------------------\u001b[0m",
            "\u001b[0;31mNameError\u001b[0m                                 Traceback (most recent call last)",
            "\u001b[0;32m<ipython-input-1-a0250c0e485b>\u001b[0m in \u001b[0;36m<cell line: 0>\u001b[0;34m()\u001b[0m\n\u001b[1;32m      3\u001b[0m \u001b[0;34m\u001b[0m\u001b[0m\n\u001b[1;32m      4\u001b[0m \u001b[0mplt\u001b[0m\u001b[0;34m.\u001b[0m\u001b[0mfigure\u001b[0m\u001b[0;34m(\u001b[0m\u001b[0mfigsize\u001b[0m\u001b[0;34m=\u001b[0m\u001b[0;34m(\u001b[0m\u001b[0;36m10\u001b[0m\u001b[0;34m,\u001b[0m \u001b[0;36m10\u001b[0m\u001b[0;34m)\u001b[0m\u001b[0;34m)\u001b[0m  \u001b[0;31m# Optional: specify figure size\u001b[0m\u001b[0;34m\u001b[0m\u001b[0;34m\u001b[0m\u001b[0m\n\u001b[0;32m----> 5\u001b[0;31m \u001b[0mplt\u001b[0m\u001b[0;34m.\u001b[0m\u001b[0mimshow\u001b[0m\u001b[0;34m(\u001b[0m\u001b[0mplt\u001b[0m\u001b[0;34m.\u001b[0m\u001b[0mimread\u001b[0m\u001b[0;34m(\u001b[0m\u001b[0;34mf'{HOME}/data/masks/frame_00004_category_0.png'\u001b[0m\u001b[0;34m)\u001b[0m\u001b[0;34m)\u001b[0m\u001b[0;34m\u001b[0m\u001b[0;34m\u001b[0m\u001b[0m\n\u001b[0m\u001b[1;32m      6\u001b[0m \u001b[0mplt\u001b[0m\u001b[0;34m.\u001b[0m\u001b[0maxis\u001b[0m\u001b[0;34m(\u001b[0m\u001b[0;34m'off'\u001b[0m\u001b[0;34m)\u001b[0m\u001b[0;34m\u001b[0m\u001b[0;34m\u001b[0m\u001b[0m\n\u001b[1;32m      7\u001b[0m \u001b[0mplt\u001b[0m\u001b[0;34m.\u001b[0m\u001b[0mshow\u001b[0m\u001b[0;34m(\u001b[0m\u001b[0;34m)\u001b[0m\u001b[0;34m\u001b[0m\u001b[0;34m\u001b[0m\u001b[0m\n",
            "\u001b[0;31mNameError\u001b[0m: name 'HOME' is not defined"
          ]
        },
        {
          "data": {
            "text/plain": [
              "<Figure size 1000x1000 with 0 Axes>"
            ]
          },
          "metadata": {},
          "output_type": "display_data"
        }
      ],
      "source": [
        "!ls {HOME}/data/masks\n",
        "import matplotlib.pyplot as plt\n",
        "\n",
        "plt.figure(figsize=(10, 10))\n",
        "plt.imshow(plt.imread(f'{HOME}/data/masks/frame_00004_category_0.png'))\n",
        "plt.axis('off')\n",
        "plt.show()"
      ]
    },
    {
      "cell_type": "code",
      "execution_count": null,
      "metadata": {
        "id": "j5Vc_oCQOQoL"
      },
      "outputs": [],
      "source": []
    }
  ],
  "metadata": {
    "accelerator": "GPU",
    "colab": {
      "gpuType": "T4",
      "provenance": []
    },
    "kernelspec": {
      "display_name": "base",
      "language": "python",
      "name": "python3"
    },
    "language_info": {
      "name": "python",
      "version": "3.12.9"
    }
  },
  "nbformat": 4,
  "nbformat_minor": 0
}
