{
 "cells": [
  {
   "cell_type": "code",
   "execution_count": 1,
   "metadata": {},
   "outputs": [],
   "source": [
    "import os\n",
    "import cv2\n",
    "import imageio\n",
    "import numpy as np\n",
    "import matplotlib.pyplot as plt"
   ]
  },
  {
   "cell_type": "code",
   "execution_count": null,
   "metadata": {},
   "outputs": [],
   "source": [
    "def display_video_from_frames(input_folder, output_path, frame_rate = 20):\n",
    "    images = []\n",
    "    for filename in os.listdir(input_folder):\n",
    "        if filename.endswith('.npy'):\n",
    "            img = np.load(os.path.join(input_folder, filename))\n",
    "            img[img > 0] = 255\n",
    "            img = (img - np.min(img)) / (np.max(img) - np.min(img))\n",
    "            images.append(img)\n",
    "    imageio.mimsave(output_path, images, fps=frame_rate)\n",
    "    return"
   ]
  },
  {
   "cell_type": "code",
   "execution_count": 182,
   "metadata": {},
   "outputs": [],
   "source": [
    "def process_frames_to_vid(input_folder, output_path, frame_rate=20, persist=0, average=0, lamb=1.0, threshold=None):\n",
    "    images = []\n",
    "    num_instances = 0\n",
    "    # load video and retrieve number of instances\n",
    "    for filename in os.listdir(input_folder):\n",
    "        if filename.endswith('.npy'):\n",
    "            img = np.load(os.path.join(input_folder, filename))\n",
    "            num_instances = max(num_instances, np.max(img))\n",
    "            images.append(img)        \n",
    "    num_instances = int(num_instances)\n",
    "    print(f'Number of instances in video {input_folder}', num_instances)\n",
    "        \n",
    "    # process with persistence\n",
    "    if persist > 0:\n",
    "        instance_seen_last = [-1] * num_instances\n",
    "        for index in range(len(images)):\n",
    "            image = images[index]\n",
    "            for i in range(num_instances):\n",
    "                instance_id = i+1\n",
    "                if instance_id in image:\n",
    "                    instance_seen_last[i] = index\n",
    "                elif instance_seen_last[i] != -1 and index - instance_seen_last[i] <= persist:\n",
    "                    prev_frame = images[instance_seen_last[i]]\n",
    "                    mask = (prev_frame == instance_id)\n",
    "                    curr_vals = images[index][mask].copy()\n",
    "                    images[index][mask] = np.maximum(curr_vals, instance_id)\n",
    "\n",
    "    # save as binary mask\n",
    "    for index in range(len(images)):\n",
    "        images[index][images[index] > 0] = 255\n",
    "        \n",
    "    # run weighted average of frames (no longer binary mask)\n",
    "    averaged_images = []\n",
    "    if average > 0:\n",
    "        weights = np.array([np.exp(-lamb * i) for i in range(average-1, -1, -1)])\n",
    "        print('Weights:', weights)\n",
    "        for index in range(len(images)):\n",
    "            if index < average: \n",
    "                frames_to_avg = np.array(images[:index+1])\n",
    "                weighted_avg = np.average(frames_to_avg, axis=0, weights=weights[average-index-1:])\n",
    "            else: \n",
    "                frames_to_avg = np.array(images[index-average+1:index+1])\n",
    "                weighted_avg = np.average(frames_to_avg, axis=0, weights=weights)\n",
    "            \n",
    "            if threshold is None: \n",
    "                averaged_images.append(weighted_avg.astype(np.uint8))\n",
    "            else: \n",
    "                pixel_threshold = threshold * 255\n",
    "                averaged_images.append((weighted_avg > pixel_threshold).astype(np.uint8) * 255)\n",
    "        images = averaged_images\n",
    "    \n",
    "    imageio.mimsave(output_path, images, fps=frame_rate)\n",
    "    return images"
   ]
  },
  {
   "cell_type": "code",
   "execution_count": null,
   "metadata": {},
   "outputs": [],
   "source": [
    "arms = process_frames_to_vid('../data/DEVA_masks/arm/', './arms.mp4', persist=20, average=20, lamb=0.8)\n",
    "objects = process_frames_to_vid('../data/DEVA_masks/utensil.food.kitchen_appliance.pot.pan.knife.cutting_board/', './objects.mp4', persist=10, average=10, lamb=0.6)\n",
    "scene = process_frames_to_vid('../data/DEVA_masks/door.window', './scene.mp4', persist=10, average=10, lamb=0.5)"
   ]
  },
  {
   "cell_type": "code",
   "execution_count": null,
   "metadata": {},
   "outputs": [],
   "source": [
    "combined_frames = []\n",
    "for frame_index in range(np.shape(arms)[0]):\n",
    "    # set arm_frame to be 128 wherever arms is 255\n",
    "    arm_frame = arms[frame_index]\n",
    "    objects_frame = objects[frame_index] * 0.5\n",
    "    scene_frame = scene[frame_index] * 0.8\n",
    "    combined_frame = np.maximum(np.maximum(arm_frame, objects_frame), scene_frame)\n",
    "    combined_frames.append(combined_frame.astype(np.uint8))\n",
    "imageio.mimsave('./combined.mp4', combined_frames, fps=20)"
   ]
  },
  {
   "cell_type": "code",
   "execution_count": null,
   "metadata": {},
   "outputs": [],
   "source": []
  }
 ],
 "metadata": {
  "kernelspec": {
   "display_name": "base",
   "language": "python",
   "name": "python3"
  },
  "language_info": {
   "codemirror_mode": {
    "name": "ipython",
    "version": 3
   },
   "file_extension": ".py",
   "mimetype": "text/x-python",
   "name": "python",
   "nbconvert_exporter": "python",
   "pygments_lexer": "ipython3",
   "version": "3.12.9"
  }
 },
 "nbformat": 4,
 "nbformat_minor": 2
}
